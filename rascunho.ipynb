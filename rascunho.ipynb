{
 "cells": [
  {
   "cell_type": "code",
   "execution_count": 22,
   "metadata": {},
   "outputs": [],
   "source": [
    "import numpy as np\n",
    "import json"
   ]
  },
  {
   "cell_type": "code",
   "execution_count": 45,
   "metadata": {},
   "outputs": [],
   "source": [
    "data = json.loads(open(\"preset_5ECO.json\").read())"
   ]
  },
  {
   "cell_type": "code",
   "execution_count": 46,
   "metadata": {},
   "outputs": [
    {
     "data": {
      "text/plain": [
       "[]"
      ]
     },
     "execution_count": 46,
     "metadata": {},
     "output_type": "execute_result"
    }
   ],
   "source": [
    "data[\"Financas\"][\"Quiz\"][\"Notas\"] "
   ]
  },
  {
   "cell_type": "code",
   "execution_count": 47,
   "metadata": {},
   "outputs": [
    {
     "data": {
      "text/plain": [
       "[0.0, 0.0, 0.0]"
      ]
     },
     "execution_count": 47,
     "metadata": {},
     "output_type": "execute_result"
    }
   ],
   "source": [
    "list(np.zeros(data[\"Financas\"][\"Quiz\"][\"Campos\"]))"
   ]
  },
  {
   "cell_type": "code",
   "execution_count": 48,
   "metadata": {},
   "outputs": [],
   "source": [
    "data[\"Financas\"][\"Quiz\"][\"Notas\"]  = list(np.zeros(data[\"Financas\"][\"Quiz\"][\"Campos\"]))"
   ]
  },
  {
   "cell_type": "code",
   "execution_count": 51,
   "metadata": {},
   "outputs": [
    {
     "data": {
      "text/plain": [
       "{'Notas': [0.0, 0.0, 0.0],\n",
       " 'Conta': 'lambda _: np.mean(_)',\n",
       " 'Campos': 3,\n",
       " 'Peso': 0.25}"
      ]
     },
     "execution_count": 51,
     "metadata": {},
     "output_type": "execute_result"
    }
   ],
   "source": [
    "data[\"Financas\"][\"Quiz\"]"
   ]
  },
  {
   "cell_type": "code",
   "execution_count": 56,
   "metadata": {},
   "outputs": [
    {
     "ename": "TypeError",
     "evalue": "'float' object is not subscriptable",
     "output_type": "error",
     "traceback": [
      "\u001b[1;31m---------------------------------------------------------------------------\u001b[0m",
      "\u001b[1;31mTypeError\u001b[0m                                 Traceback (most recent call last)",
      "Cell \u001b[1;32mIn[56], line 2\u001b[0m\n\u001b[0;32m      1\u001b[0m data \u001b[39m=\u001b[39m json\u001b[39m.\u001b[39mloads(\u001b[39mopen\u001b[39m(\u001b[39m\"\u001b[39m\u001b[39mdata.json\u001b[39m\u001b[39m\"\u001b[39m)\u001b[39m.\u001b[39mread())\n\u001b[1;32m----> 2\u001b[0m {\n\u001b[0;32m      3\u001b[0m     materia: {\n\u001b[0;32m      4\u001b[0m         avaliacao: data[materia][avaliacao][\u001b[39m\"\u001b[39m\u001b[39mMedia\u001b[39m\u001b[39m\"\u001b[39m] \u001b[39mfor\u001b[39;00m avaliacao \u001b[39min\u001b[39;00m data[materia]\u001b[39m.\u001b[39mkeys()\n\u001b[0;32m      5\u001b[0m     } \n\u001b[0;32m      6\u001b[0m     \u001b[39mfor\u001b[39;00m materia \u001b[39min\u001b[39;00m data\u001b[39m.\u001b[39mkeys()\n\u001b[0;32m      7\u001b[0m }\n",
      "Cell \u001b[1;32mIn[56], line 3\u001b[0m, in \u001b[0;36m<dictcomp>\u001b[1;34m(.0)\u001b[0m\n\u001b[0;32m      1\u001b[0m data \u001b[39m=\u001b[39m json\u001b[39m.\u001b[39mloads(\u001b[39mopen\u001b[39m(\u001b[39m\"\u001b[39m\u001b[39mdata.json\u001b[39m\u001b[39m\"\u001b[39m)\u001b[39m.\u001b[39mread())\n\u001b[0;32m      2\u001b[0m {\n\u001b[1;32m----> 3\u001b[0m     materia: {\n\u001b[0;32m      4\u001b[0m         avaliacao: data[materia][avaliacao][\u001b[39m\"\u001b[39m\u001b[39mMedia\u001b[39m\u001b[39m\"\u001b[39m] \u001b[39mfor\u001b[39;00m avaliacao \u001b[39min\u001b[39;00m data[materia]\u001b[39m.\u001b[39mkeys()\n\u001b[0;32m      5\u001b[0m     } \n\u001b[0;32m      6\u001b[0m     \u001b[39mfor\u001b[39;00m materia \u001b[39min\u001b[39;00m data\u001b[39m.\u001b[39mkeys()\n\u001b[0;32m      7\u001b[0m }\n",
      "Cell \u001b[1;32mIn[56], line 4\u001b[0m, in \u001b[0;36m<dictcomp>\u001b[1;34m(.0)\u001b[0m\n\u001b[0;32m      1\u001b[0m data \u001b[39m=\u001b[39m json\u001b[39m.\u001b[39mloads(\u001b[39mopen\u001b[39m(\u001b[39m\"\u001b[39m\u001b[39mdata.json\u001b[39m\u001b[39m\"\u001b[39m)\u001b[39m.\u001b[39mread())\n\u001b[0;32m      2\u001b[0m {\n\u001b[0;32m      3\u001b[0m     materia: {\n\u001b[1;32m----> 4\u001b[0m         avaliacao: data[materia][avaliacao][\u001b[39m\"\u001b[39;49m\u001b[39mMedia\u001b[39;49m\u001b[39m\"\u001b[39;49m] \u001b[39mfor\u001b[39;00m avaliacao \u001b[39min\u001b[39;00m data[materia]\u001b[39m.\u001b[39mkeys()\n\u001b[0;32m      5\u001b[0m     } \n\u001b[0;32m      6\u001b[0m     \u001b[39mfor\u001b[39;00m materia \u001b[39min\u001b[39;00m data\u001b[39m.\u001b[39mkeys()\n\u001b[0;32m      7\u001b[0m }\n",
      "\u001b[1;31mTypeError\u001b[0m: 'float' object is not subscriptable"
     ]
    }
   ],
   "source": [
    "data = json.loads(open(\"data.json\").read())\n",
    "{\n",
    "    materia: {\n",
    "        avaliacao: data[materia][avaliacao][\"Media\"] \n",
    "        for avaliacao in data[materia].keys()\n",
    "    } \n",
    "    for materia in data.keys()\n",
    "}\n"
   ]
  }
 ],
 "metadata": {
  "kernelspec": {
   "display_name": "StreamLit",
   "language": "python",
   "name": "python3"
  },
  "language_info": {
   "codemirror_mode": {
    "name": "ipython",
    "version": 3
   },
   "file_extension": ".py",
   "mimetype": "text/x-python",
   "name": "python",
   "nbconvert_exporter": "python",
   "pygments_lexer": "ipython3",
   "version": "3.10.8"
  },
  "orig_nbformat": 4,
  "vscode": {
   "interpreter": {
    "hash": "90e5681b24b66d5cb9f3533f89faac7ee6dcd469794604f3e27dbd81a92d339e"
   }
  }
 },
 "nbformat": 4,
 "nbformat_minor": 2
}
